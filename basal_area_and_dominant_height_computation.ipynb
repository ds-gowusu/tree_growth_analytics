{
 "cells": [
  {
   "cell_type": "code",
   "execution_count": 1,
   "id": "c862fb1e-734b-4e94-84ec-95d683ab793c",
   "metadata": {},
   "outputs": [],
   "source": [
    "import pyodbc\n",
    "\n",
    "import numpy as np\n",
    "import pandas as pd\n",
    "import matplotlib.pyplot as plt\n",
    "import seaborn as sns"
   ]
  },
  {
   "cell_type": "code",
   "execution_count": 4,
   "id": "a81c2f10-af33-48b7-98ae-d490e2d71c83",
   "metadata": {},
   "outputs": [
    {
     "name": "stdout",
     "output_type": "stream",
     "text": [
      "Block register\n",
      "Plot monitoring history\n",
      "Plot-block relation\n",
      "PSPs\n",
      "Slope correction factors\n",
      "Thinning history\n",
      "TreeData\n"
     ]
    }
   ],
   "source": [
    "db_path = r'C:\\Users\\GILBERT FG\\Desktop\\Readings\\PSP_database.accdb'\n",
    "\n",
    "conn = pyodbc.connect(\n",
    "    r'DRIVER={Microsoft Access Driver (*.mdb, *.accdb)};'\n",
    "    rf'DBQ={db_path};'\n",
    ")\n",
    "\n",
    "cursor = conn.cursor()\n",
    "\n",
    "for table in cursor.tables(tableType='TABLE'):\n",
    "    print(table.table_name)"
   ]
  },
  {
   "cell_type": "code",
   "execution_count": null,
   "id": "972390c4-1c12-4ee1-b165-e7da071e8e5f",
   "metadata": {},
   "outputs": [],
   "source": [
    "query = r\"SELECT * FROM TreeData WHERE AreaType = 'Teak' AND Plantations = 'Tain II' AND [Monitoring year] = '2022'\"\n",
    "\n",
    "df = pd.read_sql(query, conn)\n",
    "\n",
    "df.head()"
   ]
  }
 ],
 "metadata": {
  "kernelspec": {
   "display_name": "Python 3 (ipykernel)",
   "language": "python",
   "name": "python3"
  },
  "language_info": {
   "codemirror_mode": {
    "name": "ipython",
    "version": 3
   },
   "file_extension": ".py",
   "mimetype": "text/x-python",
   "name": "python",
   "nbconvert_exporter": "python",
   "pygments_lexer": "ipython3",
   "version": "3.13.3"
  }
 },
 "nbformat": 4,
 "nbformat_minor": 5
}
